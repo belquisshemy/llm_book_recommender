{
 "cells": [
  {
   "cell_type": "code",
   "execution_count": null,
   "id": "9380dc61",
   "metadata": {},
   "outputs": [],
   "source": [
    "\"\"\"  \n",
    "After using LLMs to find similar books to each other and then classify them (Fiction/Nonfiction), time for sentiment analysis that is going to determine the emotional tone.\n",
    "Target is classifying data into 7 categories:\n",
    "anger, disgust, fear, joy, sadness, joy, surprise, and neutral\n",
    "\"\"\"\n",
    "import pandas as pd \n",
    "books = pd.read_csv(\"books_with_categories.csv\")"
   ]
  },
  {
   "cell_type": "code",
   "execution_count": null,
   "id": "6a656cf6",
   "metadata": {},
   "outputs": [],
   "source": [
    "\"\"\"\n",
    "The reported evaluation accuracy for this model is 66%. This is considered significantly higher than a random-chance baseline, which for 7 emotion classes would be 1/7 or approximately 14%. \n",
    "\"\"\"\n",
    "\n",
    "\n",
    "from transformers import pipeline\n",
    "classifier = pipeline(\"text-classification\",\n",
    "                      model=\"j-hartmann/emotion-english-distilroberta-base\",\n",
    "                      top_k = None,\n",
    "                      device= \"cuda\"\n",
    "                      )\n",
    "classifier(\"I love this!\")"
   ]
  },
  {
   "cell_type": "code",
   "execution_count": null,
   "id": "e51d4fe3",
   "metadata": {},
   "outputs": [],
   "source": [
    "books[\"description\"][0]"
   ]
  },
  {
   "cell_type": "code",
   "execution_count": null,
   "id": "7137cf2d",
   "metadata": {},
   "outputs": [],
   "source": [
    "#Classify the whole description\n",
    "classifier(books[\"description\"][0])"
   ]
  },
  {
   "cell_type": "code",
   "execution_count": null,
   "id": "26c143e1",
   "metadata": {},
   "outputs": [],
   "source": [
    "#Classify each sentence inside the description\n",
    "classifier(books[\"description\"][0].split(\".\"))"
   ]
  },
  {
   "cell_type": "code",
   "execution_count": null,
   "id": "3fe1111d",
   "metadata": {},
   "outputs": [],
   "source": [
    "#The idea is for each book has a separate column of each emotion\n",
    "\n",
    "from tqdm import tqdm\n",
    "import numpy as np\n",
    "\n",
    "def calculate_max_emotion_scores(predictions, emotion_labels):\n",
    "    \"\"\"\n",
    "    Calculates the maximum score for each emotion across all sentences for a single book.\n",
    "    Uses list comprehensions for concise score extraction.\n",
    "\n",
    "    Args:\n",
    "        predictions (list of list of dict): Output from the Hugging Face classifier\n",
    "                                            for one book's sentences.\n",
    "        emotion_labels (list): A list of all possible emotion labels.\n",
    "\n",
    "    Returns:\n",
    "        dict: A dictionary where keys are emotion labels and values are the\n",
    "              maximum score observed for that emotion across all sentences.\n",
    "    \"\"\"\n",
    "    # Create a flattened list of all individual emotion prediction dicts\n",
    "    # from all sentences.\n",
    "    all_single_predictions = [item for sublist in predictions for item in sublist]\n",
    "\n",
    "    max_scores_per_emotion = {}\n",
    "    for label in emotion_labels:\n",
    "        # Extract all scores for the current 'label' across ALL sentences\n",
    "        scores_for_this_label = [\n",
    "            item['score'] for item in all_single_predictions if item['label'] == label\n",
    "        ]\n",
    "        # Find the maximum score for this label, or 0.0 if no scores were found\n",
    "        max_scores_per_emotion[label] = np.max(scores_for_this_label) if scores_for_this_label else 0.0\n",
    "\n",
    "    return max_scores_per_emotion"
   ]
  },
  {
   "cell_type": "code",
   "execution_count": null,
   "id": "f337a70e",
   "metadata": {},
   "outputs": [],
   "source": [
    "emotion_labels = [\"anger\", \"disgust\", \"fear\", \"joy\", \"sadness\", \"surprise\", \"neutral\"]\n",
    "\n",
    "# Initialize a list to store results for each book\n",
    "# Each element in this list will be a dictionary containing ISBN and emotion scores for one book.\n",
    "results_list = []\n",
    "\n",
    "for index, row in tqdm(books.iterrows(), total=len(books), desc=\"Processing Books\"):\n",
    "    isbn = row[\"isbn13\"]\n",
    "    description = row[\"description\"]\n",
    "\n",
    "    sentences = description.split(\".\")\n",
    "    predictions = classifier(sentences)\n",
    "    \n",
    "    # Pass emotion_labels to the calculation function\n",
    "    max_scores = calculate_max_emotion_scores(predictions, emotion_labels)\n",
    "\n",
    "    # Create a dictionary for the current book's results\n",
    "    book_result = {\"isbn13\": isbn}\n",
    "    book_result.update(max_scores) # Add all emotion scores to the dictionary\n",
    "\n",
    "    results_list.append(book_result)\n"
   ]
  },
  {
   "cell_type": "code",
   "execution_count": null,
   "id": "3ddd841e",
   "metadata": {},
   "outputs": [],
   "source": [
    "emotions_df = pd.DataFrame(results_list)"
   ]
  },
  {
   "cell_type": "code",
   "execution_count": null,
   "id": "d15fe270",
   "metadata": {},
   "outputs": [],
   "source": [
    "emotions_df.head()"
   ]
  },
  {
   "cell_type": "code",
   "execution_count": null,
   "id": "57abfe5f",
   "metadata": {},
   "outputs": [],
   "source": [
    "books = pd.merge(books, emotions_df, on = \"isbn13\", how=\"left\")"
   ]
  },
  {
   "cell_type": "code",
   "execution_count": null,
   "id": "31bfee89",
   "metadata": {},
   "outputs": [],
   "source": [
    "books"
   ]
  },
  {
   "cell_type": "code",
   "execution_count": null,
   "id": "b903f326",
   "metadata": {},
   "outputs": [],
   "source": [
    "books.to_csv(\"books_with_emotions.csv\", index = False)"
   ]
  },
  {
   "cell_type": "code",
   "execution_count": null,
   "id": "2c1a2713",
   "metadata": {},
   "outputs": [],
   "source": []
  }
 ],
 "metadata": {
  "kernelspec": {
   "display_name": "venv",
   "language": "python",
   "name": "python3"
  },
  "language_info": {
   "codemirror_mode": {
    "name": "ipython",
    "version": 3
   },
   "file_extension": ".py",
   "mimetype": "text/x-python",
   "name": "python",
   "nbconvert_exporter": "python",
   "pygments_lexer": "ipython3",
   "version": "3.10.4"
  }
 },
 "nbformat": 4,
 "nbformat_minor": 5
}
