{
 "cells": [
  {
   "cell_type": "code",
   "execution_count": null,
   "id": "32842fb0",
   "metadata": {},
   "outputs": [],
   "source": [
    "import pandas as pd\n",
    "\n",
    "books = pd.read_csv(\"books_cleaned.csv\")"
   ]
  },
  {
   "cell_type": "code",
   "execution_count": null,
   "id": "ae04e953",
   "metadata": {},
   "outputs": [],
   "source": [
    "books[\"categories\"].value_counts().reset_index()"
   ]
  },
  {
   "cell_type": "code",
   "execution_count": null,
   "id": "b85be25d",
   "metadata": {},
   "outputs": [],
   "source": [
    "# query() method in pandas allows to filter DataFrames using string expression\n",
    "books[\"categories\"].value_counts().reset_index().query(\"count >= 50\")"
   ]
  },
  {
   "cell_type": "code",
   "execution_count": null,
   "id": "90bccbf0",
   "metadata": {},
   "outputs": [],
   "source": [
    "#books[books[\"categories\"] == \"Juvenile Fiction\"]"
   ]
  },
  {
   "cell_type": "code",
   "execution_count": null,
   "id": "0c0baca9",
   "metadata": {},
   "outputs": [],
   "source": [
    "#books[books[\"categories\"] == \"Juvenile Nonfiction\"].reset_index()"
   ]
  },
  {
   "cell_type": "code",
   "execution_count": null,
   "id": "257f3c43",
   "metadata": {},
   "outputs": [],
   "source": [
    "category_mapping = { 'Fiction': 'Fiction',\n",
    "'Juvenile Fiction': \"Fiction\",\n",
    "'Biography & Autobiography': 'Nonfiction',\n",
    "'History': 'Nonfiction',\n",
    "'Literary Criticism': 'Nonfiction',\n",
    "'Religion': 'Nonfiction',\n",
    "'Philosophy': 'Nonfiction',\n",
    "'Comics & Graphic Novels': 'Fiction',\n",
    "'Drama': 'Fiction',\n",
    "'Juvenile Nonfiction': \"Nonfiction\",\n",
    "'Science': 'Nonfiction',\n",
    "'Poetry': 'Fiction',\n",
    "'Literary Collections': 'Nonfiction'\n",
    "}\n",
    "books[\"simple_categories\"] = books[\"categories\"].map(category_mapping)"
   ]
  },
  {
   "cell_type": "code",
   "execution_count": null,
   "id": "8ea11ef0",
   "metadata": {},
   "outputs": [],
   "source": [
    "# Show only rows where simple_categories is not null\n",
    "books[books[\"simple_categories\"].notna()]"
   ]
  },
  {
   "cell_type": "code",
   "execution_count": null,
   "id": "5e456dde",
   "metadata": {},
   "outputs": [],
   "source": [
    "import torch\n",
    "print(f\"PyTorch version: {torch.__version__}\")\n",
    "print(f\"CUDA available: {torch.cuda.is_available()}\")\n",
    "\n",
    "import transformers\n",
    "print(f\"Transformers version: {transformers.__version__}\")\n",
    "\n",
    "from transformers import pipeline\n",
    "print(\"✅ Pipeline import successful!\")"
   ]
  },
  {
   "cell_type": "code",
   "execution_count": null,
   "id": "0a96b352",
   "metadata": {},
   "outputs": [],
   "source": [
    "classifier = pipeline(\"zero-shot-classification\",\n",
    "                      model=\"facebook/bart-large-mnli\",\n",
    "                      device='cuda')"
   ]
  },
  {
   "cell_type": "code",
   "execution_count": null,
   "id": "eab1dc14",
   "metadata": {},
   "outputs": [],
   "source": [
    "candidate_labels = [\"Fiction\", \"Nonfiction\"]"
   ]
  },
  {
   "cell_type": "code",
   "execution_count": null,
   "id": "654f06b4",
   "metadata": {},
   "outputs": [],
   "source": [
    "sequence_to_classify = books.loc[books[\"simple_categories\"] == \"Fiction\", \"description\"].reset_index(drop=True)[0]"
   ]
  },
  {
   "cell_type": "code",
   "execution_count": null,
   "id": "3ef12615",
   "metadata": {},
   "outputs": [],
   "source": [
    "classifier(sequence_to_classify, candidate_labels)"
   ]
  },
  {
   "cell_type": "code",
   "execution_count": null,
   "id": "b56cfc40",
   "metadata": {},
   "outputs": [],
   "source": [
    "#Postprocessing to get predicted label\n",
    "import numpy as np\n",
    "max_index = np.argmax(classifier(sequence_to_classify, candidate_labels)[\"scores\"])\n",
    "predicted_class = classifier(sequence_to_classify, candidate_labels)[\"labels\"][max_index]"
   ]
  },
  {
   "cell_type": "code",
   "execution_count": null,
   "id": "4a8ac3fa",
   "metadata": {},
   "outputs": [],
   "source": [
    "print(predicted_class)"
   ]
  },
  {
   "cell_type": "code",
   "execution_count": null,
   "id": "df862334",
   "metadata": {},
   "outputs": [],
   "source": [
    "#Bundle all of this into function\n",
    "def generate_predictions(sequence, categories):\n",
    "    predictions = classifier(sequence, categories)\n",
    "    max_index = np.argmax(predictions[\"scores\"])\n",
    "    predicted_class = predictions[\"labels\"][max_index]\n",
    "    return predicted_class"
   ]
  },
  {
   "cell_type": "code",
   "execution_count": null,
   "id": "986dfdbe",
   "metadata": {},
   "outputs": [],
   "source": [
    "books[\"simple_categories\"].value_counts().reset_index()"
   ]
  },
  {
   "cell_type": "code",
   "execution_count": null,
   "id": "1ea5651f",
   "metadata": {},
   "outputs": [],
   "source": [
    "books[\"simple_categories\"].isna().sum()"
   ]
  },
  {
   "cell_type": "code",
   "execution_count": null,
   "id": "ee7227a7",
   "metadata": {},
   "outputs": [],
   "source": [
    "#Evaluation\n",
    "from tqdm import tqdm\n",
    "\n",
    "actual_categories = []\n",
    "predicted_categories = []\n",
    "\n",
    "for i in tqdm(range(0,300)):\n",
    "    sequence = books.loc[books[\"simple_categories\"] == \"Fiction\", \"description\"].reset_index(drop=True)[i]\n",
    "    predicted_categories.append(generate_predictions(sequence, candidate_labels))\n",
    "    actual_categories.append(\"Fiction\")\n",
    "    "
   ]
  },
  {
   "cell_type": "code",
   "execution_count": null,
   "id": "fc69e36c",
   "metadata": {},
   "outputs": [],
   "source": [
    "for i in tqdm(range(0,300)):\n",
    "    sequence = books.loc[books[\"simple_categories\"] == \"Nonfiction\", \"description\"].reset_index(drop=True)[i]\n",
    "    predicted_categories.append(generate_predictions(sequence, candidate_labels))\n",
    "    actual_categories.append(\"Nonfiction\")"
   ]
  },
  {
   "cell_type": "code",
   "execution_count": null,
   "id": "a551e52d",
   "metadata": {},
   "outputs": [],
   "source": [
    "print(f\"Length of actual_categories: {len(actual_categories)}\")\n",
    "print(f\"Length of predicted_categories: {len(predicted_categories)}\")"
   ]
  },
  {
   "cell_type": "code",
   "execution_count": null,
   "id": "a1f128d6",
   "metadata": {},
   "outputs": [],
   "source": [
    "prediction_df = pd.DataFrame({\"actual_categories\": actual_categories, \"predicted_categories\": predicted_categories})"
   ]
  },
  {
   "cell_type": "code",
   "execution_count": null,
   "id": "51dbb9e0",
   "metadata": {},
   "outputs": [],
   "source": [
    "prediction_df.head(10)"
   ]
  },
  {
   "cell_type": "code",
   "execution_count": null,
   "id": "69a6bd6f",
   "metadata": {},
   "outputs": [],
   "source": [
    "prediction_df[\"correct_prediction\"] = (np.where(prediction_df[\"actual_categories\"] == prediction_df[\"predicted_categories\"], 1, 0))"
   ]
  },
  {
   "cell_type": "code",
   "execution_count": null,
   "id": "b598c7e4",
   "metadata": {},
   "outputs": [],
   "source": [
    "accuracy = prediction_df[\"correct_prediction\"].sum() / len(prediction_df) * 100"
   ]
  },
  {
   "cell_type": "code",
   "execution_count": null,
   "id": "01750cf9",
   "metadata": {},
   "outputs": [],
   "source": [
    "accuracy"
   ]
  },
  {
   "cell_type": "code",
   "execution_count": null,
   "id": "2fc2484b",
   "metadata": {},
   "outputs": [],
   "source": [
    "#Now that is a good accuracy to use in predicting books with missing labels\n",
    "isbns = []\n",
    "predicted_categories = []\n",
    "missing_categories = books.loc[books[\"simple_categories\"].isna(), [\"isbn13\", \"description\"]].reset_index(drop=True)"
   ]
  },
  {
   "cell_type": "code",
   "execution_count": null,
   "id": "f31121c9",
   "metadata": {},
   "outputs": [],
   "source": [
    "for i in tqdm(range(0, len(missing_categories))):\n",
    "    sequence = missing_categories[\"description\"][i]\n",
    "    predicted_categories.append(generate_predictions(sequence, candidate_labels))\n",
    "    isbns.append(missing_categories[\"isbn13\"][i])"
   ]
  },
  {
   "cell_type": "code",
   "execution_count": null,
   "id": "d0357221",
   "metadata": {},
   "outputs": [],
   "source": [
    "missing_predictions_df = pd.DataFrame({\"isbn13\": isbns, \"predicted_categories\": predicted_categories})"
   ]
  },
  {
   "cell_type": "code",
   "execution_count": null,
   "id": "87a9f246",
   "metadata": {},
   "outputs": [],
   "source": [
    "missing_predictions_df.head(10)"
   ]
  },
  {
   "cell_type": "code",
   "execution_count": null,
   "id": "2b5135aa",
   "metadata": {},
   "outputs": [],
   "source": [
    "#Now time to merge this in the original dataframe 'books'\n",
    "#Fill in the missing categories from predicted categories\n",
    "#Then drop the predicted_categories column\n",
    "books = pd.merge(books, missing_predictions_df, on=\"isbn13\", how=\"left\")\n",
    "books[\"simple_categories\"] = np.where(books[\"simple_categories\"].isna(), books[\"predicted_categories\"], books[\"simple_categories\"])\n",
    "books = books.drop(columns=[\"predicted_categories\"])"
   ]
  },
  {
   "cell_type": "code",
   "execution_count": null,
   "id": "b09529d6",
   "metadata": {},
   "outputs": [],
   "source": [
    "books.head()"
   ]
  },
  {
   "cell_type": "code",
   "execution_count": null,
   "id": "664a75ee",
   "metadata": {},
   "outputs": [],
   "source": [
    "print(books[\"simple_categories\"].isna().sum())\n",
    "print(books[\"simple_categories\"].isna().count())"
   ]
  },
  {
   "cell_type": "code",
   "execution_count": null,
   "id": "6000d301",
   "metadata": {},
   "outputs": [],
   "source": [
    "books.to_csv(\"books_with_categories.csv\", index=False)"
   ]
  },
  {
   "cell_type": "code",
   "execution_count": null,
   "id": "a995da3c",
   "metadata": {},
   "outputs": [],
   "source": []
  }
 ],
 "metadata": {
  "kernelspec": {
   "display_name": "venv",
   "language": "python",
   "name": "python3"
  },
  "language_info": {
   "codemirror_mode": {
    "name": "ipython",
    "version": 3
   },
   "file_extension": ".py",
   "mimetype": "text/x-python",
   "name": "python",
   "nbconvert_exporter": "python",
   "pygments_lexer": "ipython3",
   "version": "3.10.4"
  }
 },
 "nbformat": 4,
 "nbformat_minor": 5
}
