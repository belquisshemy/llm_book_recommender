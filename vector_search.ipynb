{
 "cells": [
  {
   "cell_type": "code",
   "execution_count": null,
   "id": "3c88d39e",
   "metadata": {},
   "outputs": [],
   "source": [
    "# Convert the raw text to a langchain format\n",
    "from langchain_community.document_loaders import TextLoader\n",
    "# Split the documents into meaningful chunks (individual description of each book)\n",
    "from langchain_text_splitters import CharacterTextSplitter\n",
    "# Convert those chunks into embeddings\n",
    "from langchain_openai import OpenAIEmbeddings\n",
    "# Store this into vector database\n",
    "from langchain_chroma import Chroma"
   ]
  },
  {
   "cell_type": "code",
   "execution_count": null,
   "id": "e7a64de4",
   "metadata": {},
   "outputs": [],
   "source": [
    "# Setup environment/ calling model using API calls\n",
    "from dotenv import load_dotenv\n",
    "\n",
    "load_dotenv()"
   ]
  },
  {
   "cell_type": "code",
   "execution_count": null,
   "id": "6cca46ad",
   "metadata": {},
   "outputs": [],
   "source": [
    "import pandas as pd\n",
    "\n",
    "books = pd.read_csv(\"books_cleaned.csv\")"
   ]
  },
  {
   "cell_type": "code",
   "execution_count": null,
   "id": "05962636",
   "metadata": {},
   "outputs": [],
   "source": [
    "books"
   ]
  },
  {
   "cell_type": "code",
   "execution_count": null,
   "id": "5fd530a5",
   "metadata": {},
   "outputs": [],
   "source": [
    "# Start building Vector Search\n",
    "books[\"tagged_description\"]"
   ]
  },
  {
   "cell_type": "code",
   "execution_count": null,
   "id": "65b221d8",
   "metadata": {},
   "outputs": [],
   "source": [
    "#Textloaders in Langchain does not work with pandas dataframe\n",
    "#We need to save tagged_desciption in text file\n",
    "\n",
    "books[\"tagged_description\"].to_csv(\"tagged_description.txt\",\n",
    "                                   sep= \"\\n\",\n",
    "                                   index=False,\n",
    "                                   header=False)"
   ]
  },
  {
   "cell_type": "code",
   "execution_count": null,
   "id": "76a688c0",
   "metadata": {},
   "outputs": [],
   "source": [
    "#Load them, added encoding so that textloader does not corrupt words containing apostrophes \n",
    "raw_documents = TextLoader(\"tagged_description.txt\", encoding=\"utf-8\").load()\n",
    "#Instantiate text splitter, setting chunk_size=0 to prioritize splitting on separator rather than splitting on chunk_size\n",
    "text_splitter = CharacterTextSplitter(chunk_size=0, chunk_overlap=0, separator=\"\\n\")\n",
    "documents = text_splitter.split_documents(raw_documents)\n"
   ]
  },
  {
   "cell_type": "code",
   "execution_count": null,
   "id": "a799b9b7",
   "metadata": {},
   "outputs": [],
   "source": [
    "print(documents[0].page_content)"
   ]
  },
  {
   "cell_type": "code",
   "execution_count": null,
   "id": "f731e8f6",
   "metadata": {},
   "outputs": [],
   "source": [
    "#Create documment embedding and store them in a vector database\n",
    "db_books = Chroma.from_documents(documents, \n",
    "                                 embedding=OpenAIEmbeddings())"
   ]
  },
  {
   "cell_type": "code",
   "execution_count": null,
   "id": "1a798be3",
   "metadata": {},
   "outputs": [],
   "source": [
    "query = \"A book to teach children about nature\"\n",
    "docs = db_books.similarity_search(query, k=10)\n",
    "docs"
   ]
  },
  {
   "cell_type": "code",
   "execution_count": null,
   "id": "cb997977",
   "metadata": {},
   "outputs": [],
   "source": [
    "#Gets first document from doc list > docs[0]\n",
    "#Access text content > page_content\n",
    "#Split text into tokens\n",
    "#Access first element from split\n",
    "#Remove any leading/trailing space\n",
    "# convert it to int\n",
    "books[books[\"isbn13\"]==int(docs[0].page_content.split()[0].strip())]"
   ]
  },
  {
   "cell_type": "code",
   "execution_count": null,
   "id": "d33fff78",
   "metadata": {},
   "outputs": [],
   "source": [
    "def retrieve_semantic_recommendation(query: str, top_k: int = 10) -> pd.DataFrame:\n",
    "    \"\"\"\n",
    "    Retrieve book recommendations based on semantic similarity to a query.\n",
    "    \n",
    "    Args:\n",
    "        query (str): Search query describing desired books\n",
    "        top_k (int): Number of top recommendations to return (default: 10)\n",
    "        \n",
    "    Returns:\n",
    "        pd.DataFrame: DataFrame containing top_k recommended books\n",
    "    \"\"\"\n",
    "    # Get similarity search results\n",
    "    similarity_results = db_books.similarity_search(query, k=50)\n",
    "    \n",
    "    # Extract ISBNs from search results\n",
    "    recommended_isbns = [\n",
    "        int(doc.page_content.split()[0].strip().strip('\"').strip(\"'\")) \n",
    "        for doc in similarity_results\n",
    "    ]\n",
    "    \n",
    "    # Filter books DataFrame and return top recommendations\n",
    "    recommended_books = books[books[\"isbn13\"].isin(recommended_isbns)]\n",
    "    return recommended_books.head(top_k)\n"
   ]
  },
  {
   "cell_type": "code",
   "execution_count": null,
   "id": "1f59cc73",
   "metadata": {},
   "outputs": [],
   "source": [
    "retrieve_semantic_recommendation(\"A book to teach children about nature\")"
   ]
  },
  {
   "cell_type": "code",
   "execution_count": null,
   "id": "b487962d",
   "metadata": {},
   "outputs": [],
   "source": []
  }
 ],
 "metadata": {
  "kernelspec": {
   "display_name": "venv",
   "language": "python",
   "name": "python3"
  },
  "language_info": {
   "codemirror_mode": {
    "name": "ipython",
    "version": 3
   },
   "file_extension": ".py",
   "mimetype": "text/x-python",
   "name": "python",
   "nbconvert_exporter": "python",
   "pygments_lexer": "ipython3",
   "version": "3.10.4"
  }
 },
 "nbformat": 4,
 "nbformat_minor": 5
}
